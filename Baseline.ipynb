{
 "cells": [
  {
   "cell_type": "markdown",
   "metadata": {
    "id": "yWJkebxUKWmV"
   },
   "source": [
    "# Sentiment Analysis on Movie Reviews - Baseline Model\n",
    "\n",
    "## Introduction\n",
    "This notebook serves as a baseline model for the **Sentiment Analysis on Movie Reviews** competition. The goal is to classify movie reviews as different sentiment classes.\n",
    "\n",
    "In this notebook, we will:\n",
    "1. **Load and explore the dataset**\n",
    "2. **Preprocess the text (cleaning, tokenization, TF-IDF)**\n",
    "3. **Train a baseline model (Linear Regression, Logistic Regression, and NN)**\n",
    "4. **Evaluate its performance**\n"
   ]
  },
  {
   "cell_type": "markdown",
   "metadata": {
    "id": "dnIdOOxwkuTr"
   },
   "source": [
    "### Import Libraries"
   ]
  },
  {
   "cell_type": "code",
   "execution_count": 5,
   "metadata": {
    "id": "hWpOmZFvkuTs"
   },
   "outputs": [],
   "source": [
    "from collections import Counter\n",
    "from collections import Counter\n",
    "from nltk.corpus import stopwords\n",
    "from nltk.stem import WordNetLemmatizer\n",
    "from sklearn.svm import SVC\n",
    "from sklearn.feature_extraction.text import TfidfVectorizer\n",
    "from sklearn.linear_model import LogisticRegression\n",
    "from sklearn.metrics import accuracy_score, classification_report\n",
    "from sklearn.model_selection import train_test_split\n",
    "import matplotlib.pyplot as plt\n",
    "import nltk\n",
    "import numpy as np\n",
    "import pandas as pd\n",
    "import seaborn as sns\n",
    "import string\n",
    "import xgboost as xgb\n",
    "import tensorflow as tf\n",
    "from tensorflow import keras\n",
    "from sklearn.model_selection import train_test_split\n",
    "from sklearn.preprocessing import LabelEncoder"
   ]
  },
  {
   "cell_type": "markdown",
   "metadata": {
    "id": "NQXrZp7nI3Ht"
   },
   "source": [
    "### Step 1: Data Ingestion\n",
    "\n",
    "In this step, we load the `train.tsv` file into a Pandas DataFrame and perform basic checks. This includes verifying the overall structure of the dataset (rows and columns) and previewing a few entries with `df.head()`. These actions ensure the data is properly loaded before we proceed with further exploration and analysis."
   ]
  },
  {
   "cell_type": "code",
   "execution_count": 6,
   "metadata": {
    "colab": {
     "base_uri": "https://localhost:8080/",
     "height": 206
    },
    "executionInfo": {
     "elapsed": 140,
     "status": "ok",
     "timestamp": 1740621379257,
     "user": {
      "displayName": "Viola Qiu",
      "userId": "07087666301425391816"
     },
     "user_tz": 300
    },
    "id": "KtW6mUIQ7IGc",
    "outputId": "94039e3f-7874-4728-e98e-61e8bd0d0b3a"
   },
   "outputs": [
    {
     "data": {
      "text/html": [
       "<div>\n",
       "<style scoped>\n",
       "    .dataframe tbody tr th:only-of-type {\n",
       "        vertical-align: middle;\n",
       "    }\n",
       "\n",
       "    .dataframe tbody tr th {\n",
       "        vertical-align: top;\n",
       "    }\n",
       "\n",
       "    .dataframe thead th {\n",
       "        text-align: right;\n",
       "    }\n",
       "</style>\n",
       "<table border=\"1\" class=\"dataframe\">\n",
       "  <thead>\n",
       "    <tr style=\"text-align: right;\">\n",
       "      <th></th>\n",
       "      <th>PhraseId</th>\n",
       "      <th>SentenceId</th>\n",
       "      <th>Phrase</th>\n",
       "      <th>Sentiment</th>\n",
       "    </tr>\n",
       "  </thead>\n",
       "  <tbody>\n",
       "    <tr>\n",
       "      <th>0</th>\n",
       "      <td>1</td>\n",
       "      <td>1</td>\n",
       "      <td>A series of escapades demonstrating the adage ...</td>\n",
       "      <td>1</td>\n",
       "    </tr>\n",
       "    <tr>\n",
       "      <th>1</th>\n",
       "      <td>2</td>\n",
       "      <td>1</td>\n",
       "      <td>A series of escapades demonstrating the adage ...</td>\n",
       "      <td>2</td>\n",
       "    </tr>\n",
       "    <tr>\n",
       "      <th>2</th>\n",
       "      <td>3</td>\n",
       "      <td>1</td>\n",
       "      <td>A series</td>\n",
       "      <td>2</td>\n",
       "    </tr>\n",
       "    <tr>\n",
       "      <th>3</th>\n",
       "      <td>4</td>\n",
       "      <td>1</td>\n",
       "      <td>A</td>\n",
       "      <td>2</td>\n",
       "    </tr>\n",
       "    <tr>\n",
       "      <th>4</th>\n",
       "      <td>5</td>\n",
       "      <td>1</td>\n",
       "      <td>series</td>\n",
       "      <td>2</td>\n",
       "    </tr>\n",
       "  </tbody>\n",
       "</table>\n",
       "</div>"
      ],
      "text/plain": [
       "   PhraseId  SentenceId                                             Phrase  \\\n",
       "0         1           1  A series of escapades demonstrating the adage ...   \n",
       "1         2           1  A series of escapades demonstrating the adage ...   \n",
       "2         3           1                                           A series   \n",
       "3         4           1                                                  A   \n",
       "4         5           1                                             series   \n",
       "\n",
       "   Sentiment  \n",
       "0          1  \n",
       "1          2  \n",
       "2          2  \n",
       "3          2  \n",
       "4          2  "
      ]
     },
     "execution_count": 6,
     "metadata": {},
     "output_type": "execute_result"
    }
   ],
   "source": [
    "df = pd.read_csv(\"train.tsv\", sep=\"\\t\")\n",
    "df.head()"
   ]
  },
  {
   "cell_type": "markdown",
   "metadata": {
    "id": "TPCjx_vmkuTw"
   },
   "source": [
    "---\n",
    "### Step 2: Data Cleaning\n",
    "\n",
    "In this step, we ensure the dataset is properly prepared before moving on to deeper analysis and modeling. We also wrap the cleaning steps in a function to be used for later loading test data and do the same cleaning.\n",
    "1. **Checking for missing values** and removing or correcting any invalid rows (for example, those with empty `Phrase` fields).\n",
    "2. **Remove the `SentenceId` column**, because it functions purely as an identifier for grouping phrases by sentence and does not provide direct value for our initial baseline model.\n",
    "3. **Remove rows** where phrase is empty.\n",
    "4. **Check for duplicates** and address any outliers, ensuring our data is clean and consistent for the subsequent steps.\n",
    "5. **Lower Case** to standardizes the text, so that words like \"Movie\" and \"movie\" are treated as the same token.\n",
    "6. **Remove Punctuation**: Punctuation is typically not useful for sentiment classification and can add noise, so removing it simplifies the text.\n",
    "7. **Lemmatization**: Normalize different variations of the same word (e.g., “running” → “run”)."
   ]
  },
  {
   "cell_type": "code",
   "execution_count": 7,
   "metadata": {
    "id": "t0WT96tjkuTx",
    "outputId": "81139cce-c557-4cca-9d7e-50570eec1aaf"
   },
   "outputs": [
    {
     "name": "stdout",
     "output_type": "stream",
     "text": [
      "Missing values in each column:\n",
      "PhraseId      0\n",
      "SentenceId    0\n",
      "Phrase        0\n",
      "Sentiment     0\n",
      "dtype: int64\n",
      "\n",
      "Removed 1 rows where Phrase was empty.\n",
      "\n",
      "Number of duplicate rows: 0\n"
     ]
    }
   ],
   "source": [
    "def clean_data(df):\n",
    "    # 1. Check for missing values\n",
    "    print(\"Missing values in each column:\")\n",
    "    print(df.isnull().sum())\n",
    "\n",
    "    # 2. Remove the SentenceId column\n",
    "    #    This column is not needed for our baseline model.\n",
    "    df = df[['PhraseId', 'Phrase','Sentiment']]\n",
    "    df.shape\n",
    "\n",
    "    # 3. Reemove rows where phrase is empty.\n",
    "    initial_count = df.shape[0]\n",
    "    df = df[df['Phrase'].str.strip() != '']\n",
    "    removed_empty_count = initial_count - df.shape[0]\n",
    "    print(f\"\\nRemoved {removed_empty_count} rows where Phrase was empty.\")\n",
    "\n",
    "    # 4. Check for duplicates\n",
    "    duplicates_count = df.duplicated().sum()\n",
    "    df.drop_duplicates(inplace=True)\n",
    "    print(f\"\\nNumber of duplicate rows: {duplicates_count}\")\n",
    "\n",
    "    # 5. Lowercasing\n",
    "    df[\"Phrase\"] = df[\"Phrase\"].str.lower()\n",
    "\n",
    "    # 6. Remove Punctuation\n",
    "    df[\"Phrase\"] = df[\"Phrase\"].str.translate(str.maketrans(\"\", \"\", string.punctuation))\n",
    "\n",
    "    # 7. Lemmatization\n",
    "    nltk.download('wordnet', quiet=True)\n",
    "    lemmatizer = WordNetLemmatizer()\n",
    "    df[\"Phrase\"] = df[\"Phrase\"].apply(lambda text: \" \".join([lemmatizer.lemmatize(word, pos=\"v\") for word in text.split()]))\n",
    "\n",
    "clean_data(df=df)"
   ]
  },
  {
   "cell_type": "markdown",
   "metadata": {
    "id": "av60LLkgkuTx"
   },
   "source": [
    "---\n",
    "### Step 3: Exploratory data analysis\n",
    "\n",
    "#### Sentiment Distribution\n",
    "\n",
    "**Purpose**  \n",
    "Understanding sentiment distribution is important because it reveals class imbalances that could bias the model's learning process. A heavily skewed distribution might mean the model will have difficulty learning the minority classes. By examining the count and percentage of reviews in each sentiment category, we can determine if the dataset is balanced or if we need to apply techniques to address any imbalance.\n",
    "\n",
    "**Conclusion**  \n",
    "From the chart, it appears that **neutral (sentiment 2)** dominates the dataset, while **extremely positive (4)** and **extremely negative (0)** are less frequent. Because of this imbalance, we may need to take extra steps to prevent the model from focusing too heavily on the most common sentiment.\n",
    "\n"
   ]
  },
  {
   "cell_type": "code",
   "execution_count": 8,
   "metadata": {
    "colab": {
     "base_uri": "https://localhost:8080/",
     "height": 206
    },
    "executionInfo": {
     "elapsed": 25,
     "status": "ok",
     "timestamp": 1740621097651,
     "user": {
      "displayName": "Viola Qiu",
      "userId": "07087666301425391816"
     },
     "user_tz": 300
    },
    "id": "LhPI9roUJleX",
    "outputId": "e40d6fd2-fca9-4a7b-e332-d0b2aa207139"
   },
   "outputs": [
    {
     "name": "stdout",
     "output_type": "stream",
     "text": [
      "Sentiment Distribution (% of total reviews):\n",
      " Sentiment  count proportion\n",
      "         0   7072      4.53%\n",
      "         1  27273     17.48%\n",
      "         2  79582     50.99%\n",
      "         3  32927     21.10%\n",
      "         4   9206      5.90%\n"
     ]
    },
    {
     "data": {
      "image/png": "[encoded data removed]",
      "text/plain": [
       "<Figure size 700x400 with 1 Axes>"
      ]
     },
     "metadata": {},
     "output_type": "display_data"
    }
   ],
   "source": [
    "# Calculate the count and percentage of each sentiment class\n",
    "sentiment_percent = df[\"Sentiment\"].value_counts().reset_index().sort_values(by='Sentiment')\n",
    "sentiment_percent.columns = ['Sentiment', 'count']\n",
    "sentiment_percent['proportion'] = sentiment_percent['count'] / df.shape[0] * 100\n",
    "sentiment_percent['proportion'] = sentiment_percent['proportion'].apply(lambda x: f\"{x:.2f}%\")\n",
    "\n",
    "print(\"Sentiment Distribution (% of total reviews):\")\n",
    "print(sentiment_percent.to_string(index=False))\n",
    "\n",
    "# Visualize the sentiment distribution\n",
    "plt.figure(figsize=(7, 4))\n",
    "sns.countplot(data=df, x=\"Sentiment\", hue=\"Sentiment\", palette=\"viridis\")\n",
    "plt.title('Sentiment Class Distribution', fontsize=14)\n",
    "plt.xlabel('Sentiment Class', fontsize=12)\n",
    "plt.ylabel('Count', fontsize=12)\n",
    "plt.tight_layout()\n",
    "plt.show()"
   ]
  },
  {
   "cell_type": "markdown",
   "metadata": {
    "id": "oyG5o1z3kuTy"
   },
   "source": [
    "---\n",
    "### Step 3: Exploratory Data Analysis - cont'd\n",
    "\n",
    "#### Phrase Length Analysis\n",
    "\n",
    "**Purpose**  \n",
    "Examining the length of each phrase (in words) helps us determine whether certain sentiments are associated with shorter or longer text. It also reveals potential outliers (very short or very long phrases) that may skew the model’s performance.\n",
    "\n",
    "**Conclusion**  \n",
    "From the boxplot, we see that **neutral** (sentiment 2) phrases tend to be shorter, while other sentiments have higher median lengths and more outliers. This pattern suggests that expressing a stronger sentiment—whether positive or negative—often involves using more words.\n"
   ]
  },
  {
   "cell_type": "code",
   "execution_count": 9,
   "metadata": {
    "id": "yHqkm3hPkuTy",
    "outputId": "da2ce421-8021-42a8-f74e-9f71b997b901"
   },
   "outputs": [
    {
     "data": {
      "image/png": "[encoded data removed]",
      "text/plain": [
       "<Figure size 1000x600 with 1 Axes>"
      ]
     },
     "metadata": {},
     "output_type": "display_data"
    }
   ],
   "source": [
    "df[\"Phrase_length\"] = df[\"Phrase\"].apply(lambda x: len(x.split()))\n",
    "plt.figure(figsize=(10,6))\n",
    "sns.boxplot(x='Sentiment', y='Phrase_length', data=df, hue='Sentiment', palette=\"viridis\")\n",
    "plt.title(\"Phrase Length Distribution by Sentiment\")\n",
    "plt.xlabel(\"Sentiment\")\n",
    "plt.ylabel(\"Phrase Length (word count)\")\n",
    "plt.legend('', frameon=False)\n",
    "plt.show()"
   ]
  },
  {
   "cell_type": "markdown",
   "metadata": {
    "id": "ITD2FQBGkuTz"
   },
   "source": [
    "---\n",
    "### Step 3: Exploratory Data Analysis - cont'd\n",
    "\n",
    "#### Most Common Words by Sentiment\n",
    "\n",
    "**Purpose**  \n",
    "By identifying the top words for each sentiment category, we can see how language differs across very negative (0), negative (1), neutral (2), positive (3), and very positive (4) phrases. This insight helps us understand which words are common filler terms versus which words might be truly indicative of a certain sentiment.\n",
    "\n",
    "**Conclusion**  \n",
    "We observe that some words (e.g., \"the\", \"and\") appear frequently in all sentiments, suggesting they are general filler words. Meanwhile, other words—though not immediately obvious from this particular top-10 list—may be more sentiment-specific and could help differentiate negative from positive phrases. These findings can guide us in refining our stopwords list or engineering sentiment-focused features for more accurate classification.\n"
   ]
  },
  {
   "cell_type": "code",
   "execution_count": 10,
   "metadata": {
    "id": "fr8uxq7pkuTz",
    "outputId": "dcf65077-f8ff-4278-f74e-b2e8cc94cdd9"
   },
   "outputs": [
    {
     "data": {
      "image/png": "[encoded data removed]",
      "text/plain": [
       "<Figure size 2000x800 with 5 Axes>"
      ]
     },
     "metadata": {},
     "output_type": "display_data"
    }
   ],
   "source": [
    "fig, axes = plt.subplots(1, 5, figsize=(20, 8))\n",
    "sentiments = sorted(df['Sentiment'].unique())\n",
    "for i, sentiment in enumerate(sentiments):\n",
    "    subset = df[df['Sentiment'] == sentiment]\n",
    "    word_counts = Counter(\" \".join(subset[\"Phrase\"]).split())\n",
    "    common_words = word_counts.most_common(15)\n",
    "    sns.barplot(ax=axes[i],\n",
    "                x=[count for _, count in common_words],\n",
    "                y=[word for word, _ in common_words],\n",
    "                orient='h', color='#4c72b0')\n",
    "    axes[i].set_title(f\"Sentiment {sentiment}\")\n",
    "    axes[i].set_xlabel(\"Frequency\")\n",
    "    axes[i].set_ylabel(\"Word\")\n",
    "\n",
    "plt.tight_layout()\n",
    "plt.show()\n"
   ]
  },
  {
   "cell_type": "markdown",
   "metadata": {
    "id": "rl5OEXa6JCO1"
   },
   "source": [
    "---\n",
    "### Step 4: Data Preprocessing\n",
    "\n",
    "In this step, we standardize and transform the text data to prepare it for modeling.\n",
    "   \n",
    "1. **Stopword Removal:**  \n",
    "   We define a set of English stopwords (using NLTK) to filter out common words (like \"the\", \"and\", etc.) that generally don't contribute to sentiment detection.  \n",
    "   *Note:* We allow update to this stopwords set.\n",
    "\n",
    "2. **TF-IDF Vectorization:**  \n",
    "   We convert the cleaned text into numerical features using TF-IDF, which captures both the term frequency and the relative importance of words across all documents.  \n",
    "   The TF-IDF vectorizer is fitted on the training set and then used to transform the test set, ensuring that the feature representation is consistent and avoids data leakage.\n"
   ]
  },
  {
   "cell_type": "code",
   "execution_count": 19,
   "metadata": {
    "id": "0yxwZtrYkuTz",
    "outputId": "a0507f54-735b-4ddd-8467-99d33a9251a0"
   },
   "outputs": [
    {
     "name": "stderr",
     "output_type": "stream",
     "text": [
      "[nltk_data] Downloading package stopwords to\n",
      "[nltk_data]     C:\\Users\\nicol\\AppData\\Roaming\\nltk_data...\n",
      "[nltk_data]   Package stopwords is already up-to-date!\n"
     ]
    },
    {
     "name": "stdout",
     "output_type": "stream",
     "text": [
      "TF-IDF feature matrix shape: (156060, 5000)\n",
      "Top TF-IDF words in first text:\n",
      "good: 0.5203\n",
      "goose: 0.4535\n",
      "amounts: 0.4373\n",
      "occasionally: 0.3825\n",
      "series: 0.3492\n",
      "story: 0.2534\n",
      "youthful: 0.0000\n",
      "70s: 0.0000\n",
      "xxx: 0.0000\n",
      "19th: 0.0000\n"
     ]
    }
   ],
   "source": [
    "# Define the default English stopwords using NLTK\n",
    "nltk.download('stopwords')\n",
    "stop_words = set(stopwords.words(\"english\"))\n",
    "# To add custom stopwords, simply update the set. For example:\n",
    "# 1.\n",
    "additional_stopwords = {\"example\", \"anotherword\"}\n",
    "stop_words.update(additional_stopwords)\n",
    "# 2.\n",
    "important_words = {\n",
    "    \"not\", \"no\", \"never\", \"none\", \"nor\", \"nothing\", \"nowhere\",\n",
    "    \"hardly\", \"barely\", \"scarcely\", \"very\", \"too\", \"so\", \"just\",\n",
    "    \"quite\", \"rather\", \"almost\", \"much\",\n",
    "    \"aren't\", \"couldn't\", \"didn't\", \"doesn't\", \"hadn't\", \"hasn't\",\n",
    "    \"haven't\", \"isn't\", \"mightn't\", \"mustn't\", \"needn't\", \"shan't\",\n",
    "    \"shouldn't\", \"wasn't\", \"weren't\", \"won't\", \"wouldn't\"\n",
    "}\n",
    "stop_words = stop_words - important_words\n",
    "\n",
    "# Initialize the TF-IDF Vectorizer with the custom stopwords set and limit features to 5000\n",
    "vectorizer = TfidfVectorizer(stop_words=\"english\", max_features=5000)\n",
    "\n",
    "X = vectorizer.fit_transform(df[\"Phrase\"])\n",
    "y = df[\"Sentiment\"]\n",
    "print(f\"TF-IDF feature matrix shape: {X.shape}\")\n",
    "\n",
    "feature_names = vectorizer.get_feature_names_out()\n",
    "first_text_vector = X[0].toarray().flatten()\n",
    "# see TF-IDF words\n",
    "top_n = 10\n",
    "top_indices = np.argsort(first_text_vector)[::-1][:top_n]\n",
    "top_words = [feature_names[i] for i in top_indices]\n",
    "top_scores = [first_text_vector[i] for i in top_indices]\n",
    "print(\"Top TF-IDF words in first text:\")\n",
    "for word, score in zip(top_words, top_scores):\n",
    "    print(f\"{word}: {score:.4f}\")"
   ]
  },
  {
   "cell_type": "markdown",
   "metadata": {
    "id": "4s2tv6fX1ZVG"
   },
   "source": [
    "---\n",
    "\n",
    "### Step 4: Data Preprocessing - cont'd\n",
    "\n",
    "#### Train, Validation, Test Split\n",
    "1. **Split into Train and Validation Sets**: Divide the training data (from `train.tsv`) into 60% for training, 20% for validation, 20% for tests.\n"
   ]
  },
  {
   "cell_type": "code",
   "execution_count": 21,
   "metadata": {
    "colab": {
     "base_uri": "https://localhost:8080/"
    },
    "executionInfo": {
     "elapsed": 37,
     "status": "ok",
     "timestamp": 1740616367093,
     "user": {
      "displayName": "Viola Qiu",
      "userId": "07087666301425391816"
     },
     "user_tz": 300
    },
    "id": "Xq_JnzPP0URY",
    "outputId": "aa200ef6-ea93-47fc-cf83-dd6009045589"
   },
   "outputs": [
    {
     "name": "stdout",
     "output_type": "stream",
     "text": [
      "Train set: (93636, 5000), Validation set: (31212, 5000), Test set: (31212, 5000)\n"
     ]
    }
   ],
   "source": [
    "X_train, X_temp, y_train, y_temp = train_test_split(X, y, test_size=0.4, random_state=1234)\n",
    "X_val, X_test, y_val, y_test = train_test_split(X_temp, y_temp, test_size=0.5, random_state=1234)\n",
    "\n",
    "print(f\"Train set: {X_train.shape}, Validation set: {X_val.shape}, Test set: {X_test.shape}\")"
   ]
  },
  {
   "cell_type": "markdown",
   "metadata": {
    "id": "e5IQr5eBJPHZ"
   },
   "source": [
    "---\n",
    "### Step 5: BaseLine Models"
   ]
  },
  {
   "cell_type": "code",
   "execution_count": 13,
   "metadata": {
    "id": "qXKAYnkF-Wap"
   },
   "outputs": [
    {
     "data": {
      "text/plain": [
       "0.6171023965141612"
      ]
     },
     "execution_count": 13,
     "metadata": {},
     "output_type": "execute_result"
    }
   ],
   "source": [
    "# Train the Logistic Regression classification model\n",
    "\n",
    "model_logistic = LogisticRegression(max_iter=500)\n",
    "model_logistic.fit(X_train, y_train)\n",
    "\n",
    "Y_pred_logistic = model_logistic.predict(X_test)\n",
    "acc_logistic = accuracy_score(y_test, Y_pred_logistic)\n",
    "acc_logistic"
   ]
  },
  {
   "cell_type": "code",
   "execution_count": 22,
   "metadata": {},
   "outputs": [
    {
     "name": "stderr",
     "output_type": "stream",
     "text": [
      "c:\\Users\\nicol\\.conda\\envs\\tensorflow-env\\Lib\\site-packages\\xgboost\\core.py:158: UserWarning: [03:48:52] WARNING: C:\\buildkite-agent\\builds\\buildkite-windows-cpu-autoscaling-group-i-08cbc0333d8d4aae1-1\\xgboost\\xgboost-ci-windows\\src\\learner.cc:740: \n",
      "Parameters: { \"use_label_encoder\" } are not used.\n",
      "\n",
      "  warnings.warn(smsg, UserWarning)\n"
     ]
    },
    {
     "name": "stdout",
     "output_type": "stream",
     "text": [
      "XGBoost Accuracy: 0.6051\n"
     ]
    }
   ],
   "source": [
    "# Train the XGBoost classification model\n",
    "model_xg = xgb.XGBClassifier(\n",
    "    objective=\"multi:softmax\",  # Multi-class classification task\n",
    "    num_class=5,  # 5 sentiment classes (0-4)\n",
    "    max_depth=10,  # Maximum tree depth\n",
    "    learning_rate=0.1,  # Learning rate\n",
    "    n_estimators=500,  # Number of trees\n",
    "    eval_metric=\"mlogloss\",  # Multi-class loss function\n",
    "    use_label_encoder=False  # Disable default label encoding\n",
    ")\n",
    "model_xg.fit(X_train, y_train)\n",
    "\n",
    "# Make predictions\n",
    "y_pred = model_xg.predict(X_test)\n",
    "\n",
    "# Calculate accuracy\n",
    "acc_xg = accuracy_score(y_test, y_pred)\n",
    "print(f\"XGBoost Accuracy: {acc_xg:.4f}\")"
   ]
  },
  {
   "cell_type": "code",
   "execution_count": 15,
   "metadata": {},
   "outputs": [
    {
     "name": "stderr",
     "output_type": "stream",
     "text": [
      "c:\\Users\\nicol\\.conda\\envs\\tensorflow-env\\Lib\\site-packages\\keras\\src\\layers\\core\\dense.py:87: UserWarning: Do not pass an `input_shape`/`input_dim` argument to a layer. When using Sequential models, prefer using an `Input(shape)` object as the first layer in the model instead.\n",
      "  super().__init__(activity_regularizer=activity_regularizer, **kwargs)\n"
     ]
    },
    {
     "name": "stdout",
     "output_type": "stream",
     "text": [
      "Epoch 1/10\n",
      "\u001b[1m2927/2927\u001b[0m \u001b[32m━━━━━━━━━━━━━━━━━━━━\u001b[0m\u001b[37m\u001b[0m \u001b[1m32s\u001b[0m 11ms/step - accuracy: 0.5511 - loss: 1.1329 - val_accuracy: 0.6229 - val_loss: 0.9399\n",
      "Epoch 2/10\n",
      "\u001b[1m2927/2927\u001b[0m \u001b[32m━━━━━━━━━━━━━━━━━━━━\u001b[0m\u001b[37m\u001b[0m \u001b[1m31s\u001b[0m 11ms/step - accuracy: 0.6533 - loss: 0.8745 - val_accuracy: 0.6419 - val_loss: 0.9055\n",
      "Epoch 3/10\n",
      "\u001b[1m2927/2927\u001b[0m \u001b[32m━━━━━━━━━━━━━━━━━━━━\u001b[0m\u001b[37m\u001b[0m \u001b[1m31s\u001b[0m 11ms/step - accuracy: 0.6904 - loss: 0.7798 - val_accuracy: 0.6458 - val_loss: 0.9110\n",
      "Epoch 4/10\n",
      "\u001b[1m2927/2927\u001b[0m \u001b[32m━━━━━━━━━━━━━━━━━━━━\u001b[0m\u001b[37m\u001b[0m \u001b[1m32s\u001b[0m 11ms/step - accuracy: 0.7161 - loss: 0.7148 - val_accuracy: 0.6466 - val_loss: 0.9212\n",
      "Epoch 5/10\n",
      "\u001b[1m2927/2927\u001b[0m \u001b[32m━━━━━━━━━━━━━━━━━━━━\u001b[0m\u001b[37m\u001b[0m \u001b[1m31s\u001b[0m 10ms/step - accuracy: 0.7342 - loss: 0.6666 - val_accuracy: 0.6440 - val_loss: 0.9495\n",
      "Epoch 6/10\n",
      "\u001b[1m2927/2927\u001b[0m \u001b[32m━━━━━━━━━━━━━━━━━━━━\u001b[0m\u001b[37m\u001b[0m \u001b[1m31s\u001b[0m 11ms/step - accuracy: 0.7455 - loss: 0.6282 - val_accuracy: 0.6423 - val_loss: 1.0007\n",
      "Epoch 7/10\n",
      "\u001b[1m2927/2927\u001b[0m \u001b[32m━━━━━━━━━━━━━━━━━━━━\u001b[0m\u001b[37m\u001b[0m \u001b[1m31s\u001b[0m 11ms/step - accuracy: 0.7587 - loss: 0.5977 - val_accuracy: 0.6423 - val_loss: 1.0443\n",
      "Epoch 8/10\n",
      "\u001b[1m2927/2927\u001b[0m \u001b[32m━━━━━━━━━━━━━━━━━━━━\u001b[0m\u001b[37m\u001b[0m \u001b[1m31s\u001b[0m 11ms/step - accuracy: 0.7640 - loss: 0.5745 - val_accuracy: 0.6400 - val_loss: 1.0783\n",
      "Epoch 9/10\n",
      "\u001b[1m2927/2927\u001b[0m \u001b[32m━━━━━━━━━━━━━━━━━━━━\u001b[0m\u001b[37m\u001b[0m \u001b[1m31s\u001b[0m 11ms/step - accuracy: 0.7684 - loss: 0.5571 - val_accuracy: 0.6415 - val_loss: 1.0929\n",
      "Epoch 10/10\n",
      "\u001b[1m2927/2927\u001b[0m \u001b[32m━━━━━━━━━━━━━━━━━━━━\u001b[0m\u001b[37m\u001b[0m \u001b[1m31s\u001b[0m 11ms/step - accuracy: 0.7757 - loss: 0.5418 - val_accuracy: 0.6402 - val_loss: 1.1688\n",
      "\u001b[1m976/976\u001b[0m \u001b[32m━━━━━━━━━━━━━━━━━━━━\u001b[0m\u001b[37m\u001b[0m \u001b[1m3s\u001b[0m 3ms/step - accuracy: 0.6427 - loss: 1.1664\n",
      "Neural Network Accuracy: 0.6402\n"
     ]
    }
   ],
   "source": [
    "\n",
    "# Convert labels to categorical (one-hot encoding)\n",
    "num_classes = len(set(y_train))\n",
    "y_train = keras.utils.to_categorical(y_train, num_classes)\n",
    "y_test = keras.utils.to_categorical(y_test, num_classes)\n",
    "\n",
    "# Build Neural Network\n",
    "model = keras.Sequential([\n",
    "    keras.layers.Dense(512, activation='relu', input_shape=(X_train.shape[1],)),  # First hidden layer\n",
    "    keras.layers.Dropout(0.3),  # Prevent overfitting\n",
    "    keras.layers.Dense(256, activation='relu'),  # Second hidden layer\n",
    "    keras.layers.Dropout(0.3),\n",
    "    keras.layers.Dense(num_classes, activation='softmax')  # Output layer\n",
    "])\n",
    "\n",
    "# Compile Model\n",
    "model.compile(optimizer='adam', loss='categorical_crossentropy', metrics=['accuracy'])\n",
    "\n",
    "# Train Model\n",
    "model.fit(X_train, y_train, epochs=10, batch_size=32, validation_data=(X_test, y_test))\n",
    "\n",
    "# Evaluate\n",
    "test_loss, test_acc = model.evaluate(X_test, y_test)\n",
    "print(f\"Neural Network Accuracy: {test_acc:.4f}\")"
   ]
  },
  {
   "cell_type": "markdown",
   "metadata": {
    "id": "A-D26NNYJVK2"
   },
   "source": [
    "---\n",
    "### Step 6: Evaluation"
   ]
  },
  {
   "cell_type": "code",
   "execution_count": null,
   "metadata": {
    "id": "ywE2SZIaJYz5"
   },
   "outputs": [],
   "source": []
  }
 ],
 "metadata": {
  "colab": {
   "collapsed_sections": [
    "NQXrZp7nI3Ht",
    "rl5OEXa6JCO1",
    "k0jLaPdeiFYd",
    "z6YIHREkJFvI",
    "A-D26NNYJVK2"
   ],
   "provenance": []
  },
  "kernelspec": {
   "display_name": "Python 3",
   "language": "python",
   "name": "python3"
  },
  "language_info": {
   "codemirror_mode": {
    "name": "ipython",
    "version": 3
   },
   "file_extension": ".py",
   "mimetype": "text/x-python",
   "name": "python",
   "nbconvert_exporter": "python",
   "pygments_lexer": "ipython3",
   "version": "3.11.11"
  }
 },
 "nbformat": 4,
 "nbformat_minor": 0
}
